{
 "cells": [
  {
   "cell_type": "code",
   "execution_count": 6,
   "id": "ad5420b8",
   "metadata": {},
   "outputs": [],
   "source": [
    "import cv2\n",
    "import numpy as np\n",
    "import tkinter as tk\n",
    "from tkinter import filedialog\n",
    "from scipy.ndimage import interpolation as inter\n"
   ]
  },
  {
   "cell_type": "code",
   "execution_count": 196,
   "id": "47d99784",
   "metadata": {},
   "outputs": [],
   "source": [
    "class OCRPreprocessing:\n",
    "    def __init__(self, input_file = \"\",  output_file = \"\", input_res =(1200,1000)):\n",
    "        self.input_file = input_file\n",
    "        self.input_res = input_res\n",
    "        self.output_file = output_file\n",
    "        self.title = \"Open OCR Image\"\n",
    "        self.filetypes = (\n",
    "        ('Image files', '*.jpg'),\n",
    "        ('Image files', '*.png'),\n",
    "        ('All files', '*.*'))\n",
    "        \n",
    "    def openImageFileDialog(self):\n",
    "\n",
    "        root = tk.Tk()\n",
    "        root.withdraw()\n",
    "        \n",
    "        fileSelect = filedialog.askopenfilename(title = self.title, initialdir='/',\n",
    "        filetypes = self.filetypes)\n",
    "        self.input_file = fileSelect\n",
    "        return \n",
    "    \n",
    "    def openInputImage(self):\n",
    "        print(\"open image\",self.input_file)\n",
    "        self.input_mat = cv2.imread(self.input_file)\n",
    "        \n",
    "        \n",
    "    def findImageScore(self, arr, angle):\n",
    "        data = inter.rotate(arr, angle, reshape=False, order=0)\n",
    "        hist = np.sum(data, axis=1)\n",
    "        score = np.sum((hist[1:] - hist[:-1]) ** 2)\n",
    "        return hist, score\n",
    "    \n",
    "    def findImageAngle(self,input_image):\n",
    "        delta = 1\n",
    "        limit = 5\n",
    "        angles = np.arange(-limit, limit+delta, delta)\n",
    "        scores = []\n",
    "        for angle in angles:\n",
    "            hist, score = self.findImageScore(input_image, angle)\n",
    "            scores.append(score)\n",
    "        best_score = max(scores)\n",
    "        best_angle = angles[scores.index(best_score)]\n",
    "        return best_angle\n",
    "    \n",
    "    def imageSmoothening(self,img, binaryThres = 180):\n",
    "        ret1, th1 = cv2.threshold(img, binaryThres, 255, cv2.THRESH_BINARY)\n",
    "        ret2, th2 = cv2.threshold(th1, 0, 255, cv2.THRESH_BINARY + cv2.THRESH_OTSU)\n",
    "        blur = cv2.GaussianBlur(th2, (1, 1), 0)\n",
    "        ret3, th3 = cv2.threshold(blur, 0, 255, cv2.THRESH_BINARY + cv2.THRESH_OTSU)\n",
    "        return th3\n",
    "    \n",
    "    def removeNoiseAndSmooth(self, img, textSizeSmoothness):\n",
    "        filtered = cv2.adaptiveThreshold(img,255,cv2.ADAPTIVE_THRESH_GAUSSIAN_C,cv2.THRESH_BINARY,11,2)\n",
    "        kernel = np.ones((1, 1), np.uint8 )\n",
    "        opening = cv2.morphologyEx(filtered, cv2.MORPH_OPEN, kernel)\n",
    "        closing = cv2.morphologyEx(opening, cv2.MORPH_CLOSE, kernel)\n",
    "        img = self.imageSmoothening(img, textSizeSmoothness)\n",
    "        or_image = cv2.bitwise_or(img, filtered)\n",
    "#         cv2.imshow(\"remove noise image\", or_image)\n",
    "        return or_image\n",
    "       \n",
    "    \n",
    "    def preprocessingImage(self, denoiseFilter = 10, textSizeSmoothness = 280, rotateImage = False):\n",
    "        self.openInputImage()\n",
    "        #resize image to have a standard size for preprocessing\n",
    "        resizedImg = cv2.resize(self.input_mat, self.input_res, interpolation = cv2.INTER_AREA)\n",
    "        #denoise image\n",
    "        filterImg = cv2.bilateralFilter(resizedImg,9,75,150)\n",
    "        if denoiseFilter > 0:\n",
    "            filterImg = cv2.fastNlMeansDenoisingColored(filterImg, None, denoiseFilter, denoiseFilter, 7, 15) \n",
    "        #convert into grayscale image\n",
    "        grayImg = cv2.cvtColor(filterImg, cv2.COLOR_BGR2GRAY)\n",
    "        #remove noise and smoothen the imgae\n",
    "        output = self.removeNoiseAndSmooth(grayImg, textSizeSmoothness)\n",
    "        if rotateImage :\n",
    "            outputImg = inter.rotate(output, self.findImageAngle(output) , reshape=False, order=0)\n",
    "#         cv2.imshow(\"denoise\", filterImg)\n",
    "#         cv2.imshow(\"gray\", grayImg)\n",
    "        cv2.imwrite(self.output_file, output)\n",
    "        return output\n",
    "        \n",
    "    \n",
    "        \n",
    "        \n",
    "    "
   ]
  },
  {
   "cell_type": "code",
   "execution_count": 197,
   "id": "5ca9cd02",
   "metadata": {},
   "outputs": [],
   "source": [
    "ocr= OCRPreprocessing(\"\", \"out.jpg\")\n"
   ]
  },
  {
   "cell_type": "code",
   "execution_count": 198,
   "id": "10542d9b",
   "metadata": {},
   "outputs": [],
   "source": [
    "ocr.openImageFileDialog()\n"
   ]
  },
  {
   "cell_type": "code",
   "execution_count": 199,
   "id": "e15f7cd5",
   "metadata": {},
   "outputs": [
    {
     "name": "stdout",
     "output_type": "stream",
     "text": [
      "open image C:/Users/goldf/Desktop/projects/sample.JPG\n"
     ]
    },
    {
     "data": {
      "text/plain": [
       "-1"
      ]
     },
     "execution_count": 199,
     "metadata": {},
     "output_type": "execute_result"
    }
   ],
   "source": [
    "\n",
    "cv2.imshow(\"output\",ocr.preprocessingImage(2, 270))\n",
    "cv2.waitKey(-1)"
   ]
  },
  {
   "cell_type": "code",
   "execution_count": null,
   "id": "0acf2fbb",
   "metadata": {},
   "outputs": [],
   "source": []
  },
  {
   "cell_type": "code",
   "execution_count": null,
   "id": "c563f0e7",
   "metadata": {},
   "outputs": [],
   "source": []
  }
 ],
 "metadata": {
  "kernelspec": {
   "display_name": "Python 3",
   "language": "python",
   "name": "python3"
  },
  "language_info": {
   "codemirror_mode": {
    "name": "ipython",
    "version": 3
   },
   "file_extension": ".py",
   "mimetype": "text/x-python",
   "name": "python",
   "nbconvert_exporter": "python",
   "pygments_lexer": "ipython3",
   "version": "3.8.8"
  }
 },
 "nbformat": 4,
 "nbformat_minor": 5
}
